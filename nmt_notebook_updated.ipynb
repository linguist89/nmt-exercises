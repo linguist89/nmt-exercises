{
 "cells": [
  {
   "cell_type": "markdown",
   "id": "13314067",
   "metadata": {},
   "source": [
    "# Neural Machine Translation: Model Comparison Across Topics\n",
    "\n",
    "In this notebook, we'll explore how different Neural Machine Translation (NMT) models perform across various topics. We'll learn how to:\n",
    "1. Load and prepare different types of translation data\n",
    "2. Use the Hugging Face pipeline for translation\n",
    "3. Evaluate translations using multiple metrics\n",
    "4. Visualize and analyze model performance\n",
    "5. Compare translations across different topics\n",
    "\n",
    "Let's start by setting up our environment and loading the necessary libraries."
   ]
  },
  {
   "cell_type": "markdown",
   "id": "4e19b937",
   "metadata": {},
   "source": [
    "First, we need to install and import the required libraries. We'll use:\n",
    "- `transformers` for the translation models\n",
    "- `pandas` for data handling\n",
    "- `matplotlib` and `seaborn` for visualization\n",
    "- `sacrebleu` and `bert_score` for evaluation metrics"
   ]
  },
  {
   "cell_type": "code",
   "execution_count": null,
   "id": "f1f71d0b",
   "metadata": {},
   "outputs": [],
   "source": [
    "# Install required packages if not already installed\n",
    "!pip install transformers datasets evaluate sacrebleu\n",
    "!pip install torch torchvision torchaudio\n",
    "!pip install sentencepiece\n",
    "!pip install sacremoses\n",
    "!pip install bert_score"
   ]
  },
  {
   "cell_type": "code",
   "execution_count": 19,
   "id": "aa958ec1",
   "metadata": {},
   "outputs": [],
   "source": [
    "\n",
    "# Import libraries\n",
    "import pandas as pd\n",
    "import numpy as np\n",
    "import matplotlib.pyplot as plt\n",
    "import seaborn as sns\n",
    "from transformers import pipeline\n",
    "from bert_score import score\n",
    "from sacrebleu import corpus_bleu\n",
    "from tqdm import tqdm\n",
    "\n",
    "# Set style for better visualizations\n",
    "plt.style.use('default')  # Using default style instead of seaborn\n",
    "sns.set_theme()  # This will apply seaborn's styling"
   ]
  },
  {
   "cell_type": "markdown",
   "id": "1d50f581",
   "metadata": {},
   "source": [
    "## 1. Loading and Preparing Our Datasets\n",
    "\n",
    "We'll be working with three different datasets, each focusing on a specific topic:\n",
    "1. General translations (everyday conversations and situations)\n",
    "2. Political translations (government, policies, elections)\n",
    "3. Sports translations (matches, tournaments, athletes)\n",
    "\n",
    "Let's first create a function to load our CSV files and then combine them into a single dataset."
   ]
  },
  {
   "cell_type": "code",
   "execution_count": 32,
   "id": "d1148fe6",
   "metadata": {},
   "outputs": [
    {
     "name": "stdout",
     "output_type": "stream",
     "text": [
      "Loading general translations...\n",
      "Loading political translations...\n",
      "Loading sports translations...\n"
     ]
    }
   ],
   "source": [
    "# Function to load a dataset from a CSV file\n",
    "def load_dataset(file_path):\n",
    "    df = pd.read_csv(file_path,sep=\"\\t\")\n",
    "    return df\n",
    "\n",
    "# Load each dataset\n",
    "print(\"Loading general translations...\")\n",
    "general_df = load_dataset('data/general_translations.csv')\n",
    "\n",
    "print(\"Loading political translations...\")\n",
    "politics_df = load_dataset('data/political_translations.csv')\n",
    "\n",
    "print(\"Loading sports translations...\")\n",
    "sports_df = load_dataset('data/sports_translations.csv')\n",
    "\n",
    "# Add topic labels to each dataset\n",
    "general_df['topic'] = 'general'\n",
    "politics_df['topic'] = 'politics'\n",
    "sports_df['topic'] = 'sports'"
   ]
  },
  {
   "cell_type": "markdown",
   "id": "5db66f53",
   "metadata": {},
   "source": [
    "## 2. Setting Up Our Translation Models\n",
    "\n",
    "We'll compare three different translation models:\n",
    "1. T5-small: A smaller, faster version of the T5 model\n",
    "2. T5-base: The standard T5 model with better performance\n",
    "3. Helsinki-NLP: A specialized model for English to French translation\n",
    "\n",
    "Let's initialize these models using the Hugging Face pipeline. The pipeline makes it easy to use pre-trained models for various tasks."
   ]
  },
  {
   "cell_type": "code",
   "execution_count": 45,
   "id": "2ef3f0af",
   "metadata": {},
   "outputs": [
    {
     "name": "stdout",
     "output_type": "stream",
     "text": [
      "Loading T5-small...\n"
     ]
    },
    {
     "name": "stderr",
     "output_type": "stream",
     "text": [
      "Device set to use cpu\n"
     ]
    },
    {
     "name": "stdout",
     "output_type": "stream",
     "text": [
      "Loading T5-base...\n"
     ]
    },
    {
     "name": "stderr",
     "output_type": "stream",
     "text": [
      "Device set to use cpu\n"
     ]
    },
    {
     "name": "stdout",
     "output_type": "stream",
     "text": [
      "Loading Helsinki-NLP model...\n"
     ]
    },
    {
     "name": "stderr",
     "output_type": "stream",
     "text": [
      "Device set to use cpu\n"
     ]
    },
    {
     "name": "stdout",
     "output_type": "stream",
     "text": [
      "\n",
      "Testing each model with a simple sentence:\n",
      "\n",
      "T5-small:\n",
      "Input: Hello, how are you?\n",
      "Output: Bonjour, comment êtes-vous ?\n",
      "\n",
      "T5-base:\n",
      "Input: Hello, how are you?\n",
      "Output: Bonjour, comment êtes-vous?\n",
      "\n",
      "Helsinki-NLP:\n",
      "Input: Hello, how are you?\n",
      "Output: Bonjour, comment allez-vous ?\n"
     ]
    }
   ],
   "source": [
    "# Initialize translation pipelines\n",
    "print(\"Loading T5-small...\")\n",
    "t5_small = pipeline(\"translation_en_to_fr\", model=\"t5-small\")\n",
    "\n",
    "print(\"Loading T5-base...\")\n",
    "t5_base = pipeline(\"translation_en_to_fr\", model=\"t5-base\")\n",
    "\n",
    "print(\"Loading Helsinki-NLP model...\")\n",
    "helsinki = pipeline(\"translation\", model=\"Helsinki-NLP/opus-mt-en-fr\")\n",
    "\n",
    "# Store models in a dictionary for easier access\n",
    "models = {\n",
    "    'T5-small': t5_small,\n",
    "    'T5-base': t5_base,\n",
    "    'Helsinki-NLP': helsinki\n",
    "}\n",
    "\n",
    "# Test each model with a simple sentence\n",
    "test_sentence = \"Hello, how are you?\"\n",
    "print(\"\\nTesting each model with a simple sentence:\")\n",
    "for model_name, model in models.items():\n",
    "    # Add task prefix for T5 models\n",
    "    if model_name.startswith('T5'):\n",
    "        text = f\"translate English to French: {test_sentence}\"\n",
    "    else:\n",
    "        text = test_sentence\n",
    "    \n",
    "    result = model(text)[0]['translation_text']\n",
    "    print(f\"\\n{model_name}:\")\n",
    "    print(f\"Input: {test_sentence}\")\n",
    "    print(f\"Output: {result}\")"
   ]
  },
  {
   "cell_type": "markdown",
   "id": "3685c500",
   "metadata": {},
   "source": [
    "## 3. Translating Our Datasets\n",
    "\n",
    "Let's translate our datasets step by step. We'll:\n",
    "1. First translate a small subset to test our setup\n",
    "2. Then translate the full dataset for each topic\n",
    "3. Store the translations for evaluation"
   ]
  },
  {
   "cell_type": "code",
   "execution_count": 48,
   "id": "bfaf7e4d",
   "metadata": {},
   "outputs": [
    {
     "name": "stdout",
     "output_type": "stream",
     "text": [
      "=== Section 1: General Topic Translations ===\n",
      "This section will be completed individually.\n",
      "\n",
      "Translating general dataset...\n",
      "\n",
      "Translating with T5-small...\n",
      "\n",
      "Translating 50 texts with T5-small...\n",
      "Progress: 10/50 texts translated\n",
      "Progress: 20/50 texts translated\n",
      "Progress: 30/50 texts translated\n",
      "Progress: 40/50 texts translated\n",
      "Progress: 50/50 texts translated\n",
      "\n",
      "Translating with T5-base...\n",
      "\n",
      "Translating 50 texts with T5-base...\n",
      "Progress: 10/50 texts translated\n",
      "Progress: 20/50 texts translated\n",
      "Progress: 30/50 texts translated\n",
      "Progress: 40/50 texts translated\n",
      "Progress: 50/50 texts translated\n",
      "\n",
      "Translating with Helsinki-NLP...\n",
      "\n",
      "Translating 50 texts with Helsinki-NLP...\n",
      "Progress: 10/50 texts translated\n",
      "Progress: 20/50 texts translated\n",
      "Progress: 30/50 texts translated\n",
      "Progress: 40/50 texts translated\n",
      "Progress: 50/50 texts translated\n",
      "\n",
      "=== Example Translations from General Dataset ===\n",
      "Source: Hello, how are you?\n",
      "Reference: Bonjour, comment allez-vous?\n",
      "T5-small: Bonjour, comment êtes-vous ?\n",
      "T5-base: Bonjour, comment êtes-vous?\n",
      "Helsinki-NLP: Bonjour, comment allez-vous ?\n",
      "\n",
      "Section 1 complete! General dataset has been translated and stored in general_df.\n"
     ]
    }
   ],
   "source": [
    "# Section 1: General Topic Translations\n",
    "print(\"=== Section 1: General Topic Translations ===\")\n",
    "print(\"This section will be completed individually.\")\n",
    "\n",
    "# Function to translate a single text with a model\n",
    "def translate_text(text, model, model_name):\n",
    "    \"\"\"Translate a single text using the specified model.\"\"\"\n",
    "    return model(text)[0]['translation_text']\n",
    "\n",
    "# Function to translate a dataframe's source_text column\n",
    "def translate_dataframe(df, model, model_name, batch_size=10):\n",
    "    \"\"\"Translate all texts in a dataframe's source_text column.\"\"\"\n",
    "    translations = []\n",
    "    total_rows = len(df)\n",
    "    \n",
    "    print(f\"\\nTranslating {total_rows} texts with {model_name}...\")\n",
    "    \n",
    "    # Process in batches to show progress\n",
    "    for i in range(0, total_rows, batch_size):\n",
    "        batch = df.iloc[i:i+batch_size]\n",
    "        for _, row in batch.iterrows():\n",
    "            translation = translate_text(row['source_text'], model, model_name)\n",
    "            translations.append(translation)\n",
    "        \n",
    "        # Show progress\n",
    "        progress = min(i + batch_size, total_rows)\n",
    "        print(f\"Progress: {progress}/{total_rows} texts translated\")\n",
    "    \n",
    "    return translations\n",
    "\n",
    "# Translate general dataset with each model\n",
    "print(\"\\nTranslating general dataset...\")\n",
    "general_translations = {}\n",
    "\n",
    "for model_name, model in models.items():\n",
    "    print(f\"\\nTranslating with {model_name}...\")\n",
    "    translations = translate_dataframe(general_df, model, model_name)\n",
    "    general_translations[model_name] = translations\n",
    "    general_df[f'translation_{model_name.lower().replace(\"-\", \"_\")}'] = translations\n",
    "\n",
    "# Display examples from general dataset\n",
    "print(\"\\n=== Example Translations from General Dataset ===\")\n",
    "example = general_df.iloc[0]\n",
    "print(f\"Source: {example['source_text']}\")\n",
    "print(f\"Reference: {example['target_text']}\")\n",
    "for model_name in models.keys():\n",
    "    column_name = f'translation_{model_name.lower().replace(\"-\", \"_\")}'\n",
    "    print(f\"{model_name}: {example[column_name]}\")\n",
    "\n",
    "print(\"\\nSection 1 complete! General dataset has been translated and stored in general_df.\")"
   ]
  },
  {
   "cell_type": "code",
   "execution_count": 49,
   "id": "7d17adad",
   "metadata": {},
   "outputs": [
    {
     "name": "stdout",
     "output_type": "stream",
     "text": [
      "\n",
      "Translating general dataset...\n",
      "\n",
      "Translating with T5-small...\n",
      "\n",
      "Translating 50 texts with T5-small...\n",
      "Progress: 10/50 texts translated\n",
      "Progress: 20/50 texts translated\n",
      "Progress: 30/50 texts translated\n",
      "Progress: 40/50 texts translated\n",
      "Progress: 50/50 texts translated\n",
      "\n",
      "Translating with T5-base...\n",
      "\n",
      "Translating 50 texts with T5-base...\n",
      "Progress: 10/50 texts translated\n",
      "Progress: 20/50 texts translated\n",
      "Progress: 30/50 texts translated\n",
      "Progress: 40/50 texts translated\n",
      "Progress: 50/50 texts translated\n",
      "\n",
      "Translating with Helsinki-NLP...\n",
      "\n",
      "Translating 50 texts with Helsinki-NLP...\n",
      "Progress: 10/50 texts translated\n",
      "Progress: 20/50 texts translated\n",
      "Progress: 30/50 texts translated\n",
      "Progress: 40/50 texts translated\n",
      "Progress: 50/50 texts translated\n",
      "\n",
      "Section 2 complete! Politiucs dataset has been translated and stored in general_df.\n"
     ]
    }
   ],
   "source": [
    "# Exercise 1a: Add the translations to the politics dataframe\n",
    "# Exercise 1b: Add the translations to the sports dataframe"
   ]
  },
  {
   "cell_type": "markdown",
   "id": "aaa2c4c9",
   "metadata": {},
   "source": [
    "## 4. Evaluating with BLEU Score\n",
    "\n",
    "Now that we have our translations, let's evaluate them using the BLEU score. We'll:\n",
    "1. Calculate BLEU scores for our test subset\n",
    "2. Calculate BLEU scores for the full dataset\n",
    "3. Compare scores across models and topics"
   ]
  },
  {
   "cell_type": "code",
   "execution_count": 50,
   "id": "97344b95",
   "metadata": {},
   "outputs": [
    {
     "name": "stdout",
     "output_type": "stream",
     "text": [
      "=== Section 1: General Topic BLEU Scores ===\n",
      "In this section, we'll calculate BLEU scores for general translations.\n",
      "This will serve as an example for the group work sections that follow.\n",
      "T5-small BLEU Score: 63.06\n",
      "T5-base BLEU Score: 70.87\n",
      "Helsinki-NLP BLEU Score: 82.84\n"
     ]
    }
   ],
   "source": [
    "# Function to calculate BLEU score for a set of translations\n",
    "def calculate_bleu_score(translations, references):\n",
    "    \"\"\"Calculate BLEU score for a set of translations against their references.\"\"\"\n",
    "    return corpus_bleu(translations, [references]).score\n",
    "\n",
    "# Section 1: General Topic BLEU Scores\n",
    "print(\"=== Section 1: General Topic BLEU Scores ===\")\n",
    "print(\"In this section, we'll calculate BLEU scores for general translations.\")\n",
    "print(\"This will serve as an example for the group work sections that follow.\")\n",
    "\n",
    "# Calculate BLEU scores for general translations\n",
    "general_bleu_scores = {}\n",
    "for model_name in models.keys():\n",
    "    column_name = f'translation_{model_name.lower().replace(\"-\", \"_\")}'\n",
    "    bleu_score = calculate_bleu_score(\n",
    "        general_df[column_name].tolist(),\n",
    "        general_df['target_text'].tolist()\n",
    "    )\n",
    "    general_bleu_scores[model_name] = bleu_score\n",
    "    print(f\"{model_name} BLEU Score: {bleu_score:.2f}\")\n"
   ]
  },
  {
   "cell_type": "code",
   "execution_count": null,
   "id": "8c376b58",
   "metadata": {},
   "outputs": [
    {
     "name": "stdout",
     "output_type": "stream",
     "text": [
      "T5-small BLEU Score: 66.31\n",
      "T5-base BLEU Score: 74.58\n",
      "Helsinki-NLP BLEU Score: 71.77\n"
     ]
    }
   ],
   "source": [
    "# Exercise 2a: Add Bleu scores for the politics\n",
    "# Exercise 2b: Add bleu scroes for the sports"
   ]
  },
  {
   "cell_type": "markdown",
   "id": "b24984e2",
   "metadata": {},
   "source": [
    "## 5. Evaluating with BERTScore\n",
    "\n",
    "Now let's evaluate our translations using BERTScore, which provides a different perspective on translation quality. We'll:\n",
    "1. Calculate BERTScore for our test subset\n",
    "2. Calculate BERTScore for the full dataset\n",
    "3. Compare scores across models and topics"
   ]
  },
  {
   "cell_type": "code",
   "execution_count": 53,
   "id": "6a42d053",
   "metadata": {},
   "outputs": [
    {
     "name": "stdout",
     "output_type": "stream",
     "text": [
      "=== Section 2: General Topic BERTScore ===\n",
      "In this section, we'll calculate BERTScore for general translations.\n",
      "This will serve as an example for the group work sections that follow.\n",
      "T5-small BERTScore: 0.9502\n",
      "T5-base BERTScore: 0.9630\n",
      "Helsinki-NLP BERTScore: 0.9736\n"
     ]
    }
   ],
   "source": [
    "# Function to calculate BERTScore for a set of translations\n",
    "def calculate_bertscore(translations, references):\n",
    "    \"\"\"Calculate BERTScore for a set of translations against their references.\"\"\"\n",
    "    P, R, F1 = score(translations, references, lang='fr', verbose=False)\n",
    "    return F1.mean().item()\n",
    "\n",
    "# Section 2: General Topic BERTScore\n",
    "print(\"=== Section 2: General Topic BERTScore ===\")\n",
    "print(\"In this section, we'll calculate BERTScore for general translations.\")\n",
    "print(\"This will serve as an example for the group work sections that follow.\")\n",
    "\n",
    "# Calculate BERTScore for general translations\n",
    "general_bertscores = {}\n",
    "for model_name in models.keys():\n",
    "    column_name = f'translation_{model_name.lower().replace(\"-\", \"_\")}'\n",
    "    bertscore = calculate_bertscore(\n",
    "        general_df[column_name].tolist(),\n",
    "        general_df['target_text'].tolist()\n",
    "    )\n",
    "    general_bertscores[model_name] = bertscore\n",
    "    print(f\"{model_name} BERTScore: {bertscore:.4f}\")"
   ]
  },
  {
   "cell_type": "code",
   "execution_count": null,
   "id": "ab7e6123",
   "metadata": {},
   "outputs": [],
   "source": [
    "# Exercise 3a: Add BERTScores for the politics\n",
    "# Exercise 3b: Add BERTScroes for the sports"
   ]
  },
  {
   "cell_type": "markdown",
   "id": "4f162cc9",
   "metadata": {},
   "source": [
    "## 6. Visualizing the Results\n",
    "\n",
    "Let's create visualizations to better understand how the models perform across different topics. We'll create:\n",
    "1. Bar plots comparing BLEU scores\n",
    "2. Bar plots comparing BERTScore\n",
    "3. A heatmap showing overall performance"
   ]
  },
  {
   "cell_type": "code",
   "execution_count": 59,
   "id": "7e0e02b7",
   "metadata": {},
   "outputs": [
    {
     "name": "stdout",
     "output_type": "stream",
     "text": [
      "=== Section 3: Visualizing Results for General Dataset ===\n",
      "Let's create visualizations to compare model performance using both metrics.\n",
      "Note: BERTScore has been multiplied by 100 for easier comparison with BLEU scores.\n"
     ]
    },
    {
     "data": {
      "image/png": "[encoded data removed]",
      "text/plain": [
       "<Figure size 1000x500 with 1 Axes>"
      ]
     },
     "metadata": {},
     "output_type": "display_data"
    },
    {
     "name": "stdout",
     "output_type": "stream",
     "text": [
      "\n",
      "Numerical Comparison:\n",
      "\n",
      "BLEU Scores:\n",
      "T5-small: 66.31\n",
      "T5-base: 74.58\n",
      "Helsinki-NLP: 71.77\n",
      "\n",
      "BERTScore (original values):\n",
      "T5-small: 0.9502\n",
      "T5-base: 0.9630\n",
      "Helsinki-NLP: 0.9736\n",
      "\n",
      "BERTScore (×100 for comparison):\n",
      "T5-small: 95.02\n",
      "T5-base: 96.30\n",
      "Helsinki-NLP: 97.36\n"
     ]
    }
   ],
   "source": [
    "# Section 3: Visualizing Results for General Dataset\n",
    "print(\"=== Section 3: Visualizing Results for General Dataset ===\")\n",
    "print(\"Let's create visualizations to compare model performance using both metrics.\")\n",
    "print(\"Note: BERTScore has been multiplied by 100 for easier comparison with BLEU scores.\")\n",
    "\n",
    "# Create a figure for combined bar plot\n",
    "fig, ax = plt.subplots(figsize=(10, 5))\n",
    "\n",
    "# Plot BLEU Scores\n",
    "ax.bar(general_bleu_scores.keys(), general_bleu_scores.values(), width=0.4, label='BLEU Score', align='center', color='b')\n",
    "\n",
    "# Plot BERTScore with an offset (multiplied by 100)\n",
    "bert_scores_scaled = {model: score * 100 for model, score in general_bertscores.items()}\n",
    "ax.bar(bert_scores_scaled.keys(), bert_scores_scaled.values(), width=0.4, label='BERTScore (×100)', align='edge', color='g')\n",
    "\n",
    "# Set titles and labels\n",
    "ax.set_title('Model Performance Comparison')\n",
    "ax.set_xlabel('Model')\n",
    "ax.set_ylabel('Score')\n",
    "ax.tick_params(axis='x', rotation=45)\n",
    "\n",
    "# Add legend\n",
    "ax.legend()\n",
    "\n",
    "# Adjust layout and display\n",
    "plt.tight_layout()\n",
    "plt.show()\n",
    "\n",
    "# Print numerical comparison\n",
    "print(\"\\nNumerical Comparison:\")\n",
    "print(\"\\nBLEU Scores:\")\n",
    "for model, score in general_bleu_scores.items():\n",
    "    print(f\"{model}: {score:.2f}\")\n",
    "\n",
    "print(\"\\nBERTScore (original values):\")\n",
    "for model, score in general_bertscores.items():\n",
    "    print(f\"{model}: {score:.4f}\")\n",
    "\n",
    "print(\"\\nBERTScore (×100 for comparison):\")\n",
    "for model, score in bert_scores_scaled.items():\n",
    "    print(f\"{model}: {score:.2f}\")"
   ]
  },
  {
   "cell_type": "markdown",
   "id": "51e76d4c",
   "metadata": {},
   "source": [
    "## 7. Summary and Conclusions\n",
    "\n",
    "In this notebook, we've:\n",
    "1. Loaded and prepared different types of translation data\n",
    "2. Set up three different translation models\n",
    "3. Translated the datasets\n",
    "4. Evaluated their performance using BLEU and BERTScore\n",
    "5. Visualized and analyzed the results\n",
    "6. Examined example translations\n",
    "\n",
    "Key takeaways:\n",
    "- Different models may perform better on different topics\n",
    "- Using multiple evaluation metrics gives us a more complete picture\n",
    "- The choice of model might depend on the specific use case\n",
    "- Topic-specific training data might improve performance\n",
    "\n",
    "Would you like to experiment with:\n",
    "1. Different models?\n",
    "2. Different topics?\n",
    "3. Different evaluation metrics?\n",
    "4. Different visualization approaches?"
   ]
  }
 ],
 "metadata": {
  "language_info": {
   "name": "python"
  }
 },
 "nbformat": 4,
 "nbformat_minor": 5
}
